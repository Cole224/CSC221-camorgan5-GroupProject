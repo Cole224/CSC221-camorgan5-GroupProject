{
 "cells": [
  {
   "cell_type": "code",
   "execution_count": 5,
   "id": "45107750",
   "metadata": {},
   "outputs": [
    {
     "name": "stdout",
     "output_type": "stream",
     "text": [
      "    Country (or Area)         Subregion    Region Total Wealth (bn. USD)  \\\n",
      "0                      Northern America  Americas                126,340   \n",
      "1                          Eastern Asia      Asia                 74,884   \n",
      "2                          Eastern Asia      Asia                 26,931   \n",
      "3                        Western Europe    Europe                 18,274   \n",
      "4                       Northern Europe    Europe                 15,284   \n",
      "..                ...               ...       ...                    ...   \n",
      "169                           Caribbean  Americas                    N/A   \n",
      "170                           Caribbean  Americas                    N/A   \n",
      "171                           Polynesia   Oceania                    N/A   \n",
      "172                           Melanesia   Oceania                    N/A   \n",
      "173                      Eastern Africa    Africa                    N/A   \n",
      "\n",
      "    % of World Wealth-to-GDP-ratio  \n",
      "0          30%             4.945\\n  \n",
      "1          18%             4.470\\n  \n",
      "2         6.4%             4.918\\n  \n",
      "3         4.4%             3.797\\n  \n",
      "4         3.7%             5.069\\n  \n",
      "..         ...                 ...  \n",
      "169        N/A               N/A\\n  \n",
      "170        N/A               N/A\\n  \n",
      "171        N/A               N/A\\n  \n",
      "172        N/A               N/A\\n  \n",
      "173        N/A               N/A\\n  \n",
      "\n",
      "[174 rows x 6 columns]\n"
     ]
    }
   ],
   "source": [
    "import urllib\n",
    "import ssl\n",
    "from bs4 import BeautifulSoup\n",
    "import pandas as pd\n",
    "import csv\n",
    "\n",
    "ssl._create_default_https_context = ssl._create_unverified_context\n",
    "url = \"https://en.wikipedia.org/wiki/List_of_countries_by_total_wealth\"\n",
    "page = urllib.request.urlopen(url)\n",
    "\n",
    "soup = BeautifulSoup(page, \"lxml\")\n",
    "\n",
    "# print(soup.prettify())\n",
    "\n",
    "soup.title.string\n",
    "\n",
    "right_table=soup.find_all('table', class_='wikitable sortable static-row-numbers plainrowheaders srn-white-background')\n",
    "right_table[1]\n",
    "\n",
    "a=[] # Declare to store cells\n",
    "b=[]\n",
    "c=[]\n",
    "d=[]\n",
    "e=[]\n",
    "f=[]\n",
    "\n",
    "for row in right_table[1].find_all('tr'): # Find cells and and store them\n",
    "    cells = row.find_all('td')\n",
    "    if len(cells) == 6:\n",
    "        a.append(cells[0].find(text=True)) # The country names are having problems because of the flag images\n",
    "        b.append(cells[1].find(text=True))\n",
    "        c.append(cells[2].find(text=True))\n",
    "        d.append(cells[3].find(text=True))\n",
    "        e.append(cells[4].find(text=True))\n",
    "        f.append(cells[5].find(text=True))\n",
    "\n",
    "df = pd.DataFrame(a, columns=['Country (or Area)']) # Assign cells to columns\n",
    "df['Subregion'] = b\n",
    "df['Region'] = c\n",
    "df['Total Wealth (bn. USD)'] = d\n",
    "df['% of World'] = e\n",
    "df['Wealth-to-GDP-ratio'] = f\n",
    "\n",
    "print(df) # Print so that you know the DF is full/accurate\n",
    "\n",
    "df.to_csv('CSC221_webscrape_data.csv', encoding='utf-8')"
   ]
  }
 ],
 "metadata": {
  "kernelspec": {
   "display_name": "Python 3",
   "language": "python",
   "name": "python3"
  },
  "language_info": {
   "codemirror_mode": {
    "name": "ipython",
    "version": 3
   },
   "file_extension": ".py",
   "mimetype": "text/x-python",
   "name": "python",
   "nbconvert_exporter": "python",
   "pygments_lexer": "ipython3",
   "version": "3.8.8"
  }
 },
 "nbformat": 4,
 "nbformat_minor": 5
}
