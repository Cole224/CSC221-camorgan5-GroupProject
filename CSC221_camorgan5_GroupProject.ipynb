{
 "cells": [
  {
   "cell_type": "code",
   "execution_count": 7,
   "id": "45107750",
   "metadata": {},
   "outputs": [
    {
     "name": "stdout",
     "output_type": "stream",
     "text": [
      "      Country (or Area) Total Wealth (bn. USD) % of World\n",
      "0       United States *                126,340        30%\n",
      "1               China *                 74,884        18%\n",
      "2               Japan *                 26,931       6.4%\n",
      "3             Germany *                 18,274       4.4%\n",
      "4      United Kingdom *                 15,284       3.7%\n",
      "..                  ...                    ...        ...\n",
      "169       Saint Lucia *                    N/A        N/A\n",
      "170           Grenada *                    N/A        N/A\n",
      "171             Samoa *                    N/A        N/A\n",
      "172   Solomon Islands *                    N/A        N/A\n",
      "173           Somalia *                    N/A        N/A\n",
      "\n",
      "[174 rows x 3 columns]\n"
     ]
    }
   ],
   "source": [
    "import urllib\n",
    "import ssl\n",
    "from bs4 import BeautifulSoup\n",
    "import pandas as pd\n",
    "import csv\n",
    "\n",
    "ssl._create_default_https_context = ssl._create_unverified_context\n",
    "url = \"https://en.wikipedia.org/wiki/List_of_countries_by_total_wealth\"\n",
    "page = urllib.request.urlopen(url)\n",
    "\n",
    "soup = BeautifulSoup(page, \"lxml\")\n",
    "\n",
    "# print(soup.prettify())\n",
    "\n",
    "soup.title.string\n",
    "\n",
    "right_table=soup.find_all('table', class_='wikitable sortable static-row-numbers plainrowheaders srn-white-background')\n",
    "right_table[1]\n",
    "\n",
    "a=[] # Declare to store cells\n",
    "b=[]\n",
    "c=[]\n",
    "d=[]\n",
    "e=[]\n",
    "f=[]\n",
    "\n",
    "for row in right_table[1].find_all('tr'): # Find cells and and store them\n",
    "    if row.get('class') == None:\n",
    "        cells = row.find_all('td')\n",
    "        if len(cells) == 6:\n",
    "            a.append(cells[0].get_text()) # Flags messing up country names\n",
    "            b.append(cells[1].find(text=True))\n",
    "            c.append(cells[2].find(text=True))\n",
    "            d.append(cells[3].find(text=True))\n",
    "            e.append(cells[4].find(text=True))\n",
    "            f.append(cells[5].find(text=True))\n",
    "\n",
    "df = pd.DataFrame(a, columns=['Country (or Area)']) # Assign cells to columns\n",
    "# df['Subregion'] = b\n",
    "# df['Region'] = c\n",
    "df['Total Wealth (bn. USD)'] = d\n",
    "df['% of World'] = e\n",
    "# df['Wealth-to-GDP-ratio'] = f\n",
    "\n",
    "print(df) # Print so that you know the DF is full/accurate\n",
    "\n",
    "df.to_csv('CSC221_webscrape_data.csv', encoding='utf-8')"
   ]
  },
  {
   "cell_type": "code",
   "execution_count": null,
   "id": "7adcbdd3",
   "metadata": {},
   "outputs": [],
   "source": []
  }
 ],
 "metadata": {
  "kernelspec": {
   "display_name": "Python 3",
   "language": "python",
   "name": "python3"
  },
  "language_info": {
   "codemirror_mode": {
    "name": "ipython",
    "version": 3
   },
   "file_extension": ".py",
   "mimetype": "text/x-python",
   "name": "python",
   "nbconvert_exporter": "python",
   "pygments_lexer": "ipython3",
   "version": "3.8.8"
  }
 },
 "nbformat": 4,
 "nbformat_minor": 5
}
