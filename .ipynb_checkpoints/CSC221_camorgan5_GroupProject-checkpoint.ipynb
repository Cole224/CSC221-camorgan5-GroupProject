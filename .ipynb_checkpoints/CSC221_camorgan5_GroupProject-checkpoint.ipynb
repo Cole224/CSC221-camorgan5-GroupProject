{
 "cells": [
  {
   "cell_type": "code",
   "execution_count": 1,
   "metadata": {},
   "outputs": [
    {
     "name": "stdout",
     "output_type": "stream",
     "text": [
      "      Country (or Area)         Subregion    Region Total Wealth (bn. USD)  \\\n",
      "0       United States *  Northern America  Americas                126,340   \n",
      "1               China *      Eastern Asia      Asia                 74,884   \n",
      "2               Japan *      Eastern Asia      Asia                 26,931   \n",
      "3             Germany *    Western Europe    Europe                 18,274   \n",
      "4      United Kingdom *   Northern Europe    Europe                 15,284   \n",
      "..                  ...               ...       ...                    ...   \n",
      "169       Saint Lucia *         Caribbean  Americas                    N/A   \n",
      "170           Grenada *         Caribbean  Americas                    N/A   \n",
      "171             Samoa *         Polynesia   Oceania                    N/A   \n",
      "172   Solomon Islands *         Melanesia   Oceania                    N/A   \n",
      "173           Somalia *    Eastern Africa    Africa                    N/A   \n",
      "\n",
      "    % of World  \n",
      "0          30%  \n",
      "1          18%  \n",
      "2         6.4%  \n",
      "3         4.4%  \n",
      "4         3.7%  \n",
      "..         ...  \n",
      "169        N/A  \n",
      "170        N/A  \n",
      "171        N/A  \n",
      "172        N/A  \n",
      "173        N/A  \n",
      "\n",
      "[174 rows x 5 columns]\n"
     ]
    }
   ],
   "source": [
    "import urllib\n",
    "import ssl\n",
    "from bs4 import BeautifulSoup\n",
    "import pandas as pd\n",
    "import csv\n",
    "\n",
    "ssl._create_default_https_context = ssl._create_unverified_context\n",
    "url = \"https://en.wikipedia.org/wiki/List_of_countries_by_total_wealth\"\n",
    "page = urllib.request.urlopen(url)\n",
    "\n",
    "soup = BeautifulSoup(page, \"lxml\")\n",
    "\n",
    "# print(soup.prettify())\n",
    "\n",
    "soup.title.string\n",
    "\n",
    "right_table=soup.find_all('table', class_='wikitable sortable static-row-numbers plainrowheaders srn-white-background')\n",
    "right_table[1]\n",
    "\n",
    "a=[] # Declare to store cells\n",
    "b=[]\n",
    "c=[]\n",
    "d=[]\n",
    "e=[]\n",
    "f=[]\n",
    "\n",
    "for row in right_table[1].find_all('tr'): # Find cells and and store them\n",
    "    if row.get('class') == None:\n",
    "        cells = row.find_all('td')\n",
    "        if len(cells) == 6:\n",
    "            a.append(cells[0].get_text()) # Flags messing up country names\n",
    "            b.append(cells[1].find(text=True))\n",
    "            c.append(cells[2].find(text=True))\n",
    "            d.append(cells[3].find(text=True))\n",
    "            e.append(cells[4].find(text=True))\n",
    "            f.append(cells[5].find(text=True))\n",
    "\n",
    "df = pd.DataFrame(a, columns=['Country (or Area)']) # Assign cells to columns\n",
    "df['Subregion'] = b\n",
    "df['Region'] = c\n",
    "df['Total Wealth (bn. USD)'] = d\n",
    "df['% of World'] = e\n",
    "# df['Wealth-to-GDP-ratio'] = f\n",
    "\n",
    "print(df) # Print so that you know the DF is full/accurate\n",
    "\n",
    "df.to_csv('CSC221_webscrape_data.csv', encoding='utf-8')"
   ]
  },
  {
   "cell_type": "code",
   "execution_count": 2,
   "metadata": {},
   "outputs": [],
   "source": [
    "# Part 2 by Patrick Luy <paluy@my.waketech.edu>"
   ]
  },
  {
   "cell_type": "code",
   "execution_count": 3,
   "metadata": {},
   "outputs": [],
   "source": [
    "#prepare data\n",
    "import functools\n",
    "import operator\n",
    "\n",
    "# Modify this variable to control how many entries to get.\n",
    "numItems = 5\n",
    "\n",
    "def stringPercentToFloat(str):\n",
    "    return float(str.strip().replace('%', ''))\n",
    "\n",
    "def cleanCountryName(dirty):\n",
    "    return dirty.strip().replace('*','')\n",
    "\n",
    "country = list(map(cleanCountryName, df['Country (or Area)'][:numItems]))\n",
    "wealth_in_billions_usd = df['Total Wealth (bn. USD)'][:numItems]\n",
    "world_wealth_percent = map(stringPercentToFloat, df['% of World'][:numItems])\n",
    "world_wealth_percent = list(world_wealth_percent)\n",
    "combined_world_wealth_percent = functools.reduce(operator.add, world_wealth_percent)"
   ]
  },
  {
   "cell_type": "code",
   "execution_count": 4,
   "metadata": {},
   "outputs": [
    {
     "data": {
      "image/png": "[encoded data removed]",
      "text/plain": [
       "<Figure size 432x288 with 1 Axes>"
      ]
     },
     "metadata": {},
     "output_type": "display_data"
    }
   ],
   "source": [
    "# prepare the pie graph\n",
    "import matplotlib.pyplot as plt\n",
    "\n",
    "labels = country\n",
    "sizes = world_wealth_percent\n",
    "fig1, ax1 = plt.subplots()\n",
    "ax1.pie(sizes, labels=labels, autopct='%1.1f%%', shadow=True, startangle=90)\n",
    "ax1.axis('equal')\n",
    "plt.title('Wealth Distribution of Top ' + str(numItems) + ' Richest Countries (Collectively own ' + str(combined_world_wealth_percent) + \"% of Global Wealth)\")\n",
    "plt.show()"
   ]
  },
  {
   "cell_type": "code",
   "execution_count": null,
   "metadata": {},
   "outputs": [],
   "source": []
  }
 ],
 "metadata": {
  "kernelspec": {
   "display_name": "Python 3",
   "language": "python",
   "name": "python3"
  },
  "language_info": {
   "codemirror_mode": {
    "name": "ipython",
    "version": 3
   },
   "file_extension": ".py",
   "mimetype": "text/x-python",
   "name": "python",
   "nbconvert_exporter": "python",
   "pygments_lexer": "ipython3",
   "version": "3.8.3"
  }
 },
 "nbformat": 4,
 "nbformat_minor": 5
}
